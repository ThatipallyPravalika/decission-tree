{
 "cells": [
  {
   "cell_type": "code",
   "execution_count": null,
   "id": "951e2c07-7f25-4044-ac75-c9d870ea6a7b",
   "metadata": {},
   "outputs": [],
   "source": [
    "f_name='"
   ]
  }
 ],
 "metadata": {
  "kernelspec": {
   "display_name": "Python 3 (ipykernel)",
   "language": "python",
   "name": "python3"
  },
  "language_info": {
   "codemirror_mode": {
    "name": "ipython",
    "version": 3
   },
   "file_extension": ".py",
   "mimetype": "text/x-python",
   "name": "python",
   "nbconvert_exporter": "python",
   "pygments_lexer": "ipython3",
   "version": "3.11.7"
  }
 },
 "nbformat": 4,
 "nbformat_minor": 5
}
