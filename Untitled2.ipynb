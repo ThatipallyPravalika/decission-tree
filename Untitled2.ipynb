{
 "cells": [
  {
   "cell_type": "code",
   "execution_count": 1,
   "id": "df648b2d-e134-4216-ad78-68c8a8a8fab0",
   "metadata": {},
   "outputs": [
    {
     "name": "stdin",
     "output_type": "stream",
     "text": [
      "the number u required is:  2\n",
      "the number u required is:  4\n"
     ]
    },
    {
     "name": "stdout",
     "output_type": "stream",
     "text": [
      "6\n"
     ]
    }
   ],
   "source": [
    "a=int(input(\"the number u required is: \"))\n",
    "b=int(input(\"the number u required is: \"))\n",
    "print(a+b)"
   ]
  },
  {
   "cell_type": "code",
   "execution_count": 2,
   "id": "799c11a8-ab89-4812-8460-7a395da761a3",
   "metadata": {},
   "outputs": [
    {
     "name": "stdin",
     "output_type": "stream",
     "text": [
      "the number u required is:  3\n",
      "the number u required is:  3\n"
     ]
    },
    {
     "name": "stdout",
     "output_type": "stream",
     "text": [
      "9.0\n"
     ]
    }
   ],
   "source": [
    "a=float(input(\"the number u required is: \"))\n",
    "b=float(input(\"the number u required is: \"))\n",
    "print(a*b)"
   ]
  },
  {
   "cell_type": "code",
   "execution_count": 6,
   "id": "dbcefc32-e8e3-4f39-83e4-5e6c0ecb65e3",
   "metadata": {},
   "outputs": [
    {
     "name": "stdin",
     "output_type": "stream",
     "text": [
      "the number u required is:  9\n",
      "the number u required is:  0\n"
     ]
    },
    {
     "name": "stdout",
     "output_type": "stream",
     "text": [
      "it is a zero division error\n"
     ]
    }
   ],
   "source": [
    "try:\n",
    "    a=int(input(\"the number u required is: \"))\n",
    "    b=int(input(\"the number u required is: \"))\n",
    "    c=a/b\n",
    "    print(c)\n",
    "except ZeroDivisionError:\n",
    "    print(\"it is a zero division error\")\n",
    "    "
   ]
  },
  {
   "cell_type": "code",
   "execution_count": 10,
   "id": "149bd410-d1d5-46f7-9e8e-db9fa2c163f6",
   "metadata": {},
   "outputs": [],
   "source": [
    "def check_in(lst,n):\n",
    "    for i in lst:\n",
    "        if i == n:\n",
    "            return'True'\n",
    "    else :\n",
    "        return 'false'"
   ]
  },
  {
   "cell_type": "code",
   "execution_count": 28,
   "id": "80f02b1e-d02f-4921-8d45-c64daf15551f",
   "metadata": {},
   "outputs": [
    {
     "data": {
      "text/plain": [
       "'True'"
      ]
     },
     "execution_count": 28,
     "metadata": {},
     "output_type": "execute_result"
    }
   ],
   "source": [
    "check_in([12,303,444],444) "
   ]
  },
  {
   "cell_type": "code",
   "execution_count": null,
   "id": "5107736e-55ba-43a3-ae37-7615a4cb1cf7",
   "metadata": {},
   "outputs": [],
   "source": []
  }
 ],
 "metadata": {
  "kernelspec": {
   "display_name": "Python 3 (ipykernel)",
   "language": "python",
   "name": "python3"
  },
  "language_info": {
   "codemirror_mode": {
    "name": "ipython",
    "version": 3
   },
   "file_extension": ".py",
   "mimetype": "text/x-python",
   "name": "python",
   "nbconvert_exporter": "python",
   "pygments_lexer": "ipython3",
   "version": "3.11.7"
  }
 },
 "nbformat": 4,
 "nbformat_minor": 5
}
