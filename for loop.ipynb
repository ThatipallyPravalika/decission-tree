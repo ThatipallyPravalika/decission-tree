{
 "cells": [
  {
   "cell_type": "code",
   "execution_count": 1,
   "id": "199947f3-1f2b-4db4-a639-5e1133b3fd2c",
   "metadata": {},
   "outputs": [
    {
     "name": "stdout",
     "output_type": "stream",
     "text": [
      "red\n",
      "red\n",
      "yello\n",
      "pink\n",
      "green\n"
     ]
    }
   ],
   "source": [
    "colours=[\"red\",\"red\",\"yello\",\"pink\",\"green\"]\n",
    "for i in colours:\n",
    "   print(i)"
   ]
  },
  {
   "cell_type": "code",
   "execution_count": 2,
   "id": "7ea92856-770b-4373-9428-32e7560e12e5",
   "metadata": {},
   "outputs": [
    {
     "name": "stdout",
     "output_type": "stream",
     "text": [
      "1\n",
      "3\n"
     ]
    }
   ],
   "source": [
    "i=1\n",
    "while i<5:\n",
    "    print(i)\n",
    "    i+=2"
   ]
  },
  {
   "cell_type": "code",
   "execution_count": 3,
   "id": "e0757d51-3628-40d1-af08-8c24eb8f03e2",
   "metadata": {},
   "outputs": [
    {
     "data": {
      "text/plain": [
       "'pravalika'"
      ]
     },
     "execution_count": 3,
     "metadata": {},
     "output_type": "execute_result"
    }
   ],
   "source": [
    "a=\"pravalika\"\n",
    "a"
   ]
  },
  {
   "cell_type": "code",
   "execution_count": 4,
   "id": "e6c55da7-f054-4bbf-a972-1c1de42bc8c1",
   "metadata": {},
   "outputs": [
    {
     "data": {
      "text/plain": [
       "'pravalika'"
      ]
     },
     "execution_count": 4,
     "metadata": {},
     "output_type": "execute_result"
    }
   ],
   "source": [
    "a.center(0)"
   ]
  },
  {
   "cell_type": "code",
   "execution_count": 5,
   "id": "e95749b2-63bc-42c3-a2ef-31efd299aad6",
   "metadata": {},
   "outputs": [
    {
     "data": {
      "text/plain": [
       "3"
      ]
     },
     "execution_count": 5,
     "metadata": {},
     "output_type": "execute_result"
    }
   ],
   "source": [
    "a.count(\"a\")"
   ]
  },
  {
   "cell_type": "code",
   "execution_count": 6,
   "id": "d52375c6-ff7c-40fd-a049-681a1eb31580",
   "metadata": {},
   "outputs": [
    {
     "data": {
      "text/plain": [
       "b'pravalika'"
      ]
     },
     "execution_count": 6,
     "metadata": {},
     "output_type": "execute_result"
    }
   ],
   "source": [
    "a.encode()"
   ]
  },
  {
   "cell_type": "code",
   "execution_count": 7,
   "id": "e2284388-f8a0-4379-8b9e-52419f3e3bea",
   "metadata": {},
   "outputs": [
    {
     "data": {
      "text/plain": [
       "2"
      ]
     },
     "execution_count": 7,
     "metadata": {},
     "output_type": "execute_result"
    }
   ],
   "source": [
    "a.index(\"a\")"
   ]
  },
  {
   "cell_type": "code",
   "execution_count": 8,
   "id": "dbbc87ff-09c5-4b9a-b748-601c4e48fac9",
   "metadata": {},
   "outputs": [
    {
     "data": {
      "text/plain": [
       "2"
      ]
     },
     "execution_count": 8,
     "metadata": {},
     "output_type": "execute_result"
    }
   ],
   "source": [
    "colours.count(\"red\")"
   ]
  },
  {
   "cell_type": "code",
   "execution_count": 9,
   "id": "9327f1fd-d76c-4c68-8398-1cde68cb14b4",
   "metadata": {},
   "outputs": [
    {
     "data": {
      "text/plain": [
       "['red', 'red', 'yello', 'pink', 'green', 'sky blue']"
      ]
     },
     "execution_count": 9,
     "metadata": {},
     "output_type": "execute_result"
    }
   ],
   "source": [
    "colours.append(\"sky blue\")\n",
    "colours"
   ]
  },
  {
   "cell_type": "code",
   "execution_count": 10,
   "id": "4949f576-d499-4894-a22d-293df29d32af",
   "metadata": {},
   "outputs": [
    {
     "data": {
      "text/plain": [
       "['mango', 'red', 'red', 'yello', 'pink', 'green', 'sky blue']"
      ]
     },
     "execution_count": 10,
     "metadata": {},
     "output_type": "execute_result"
    }
   ],
   "source": [
    "colours.insert(0,\"mango\")\n",
    "colours"
   ]
  },
  {
   "cell_type": "code",
   "execution_count": 11,
   "id": "2df02a22-8bb8-418d-b4d9-359b2842f763",
   "metadata": {},
   "outputs": [
    {
     "data": {
      "text/plain": [
       "list"
      ]
     },
     "execution_count": 11,
     "metadata": {},
     "output_type": "execute_result"
    }
   ],
   "source": [
    "list\n"
   ]
  },
  {
   "cell_type": "code",
   "execution_count": 12,
   "id": "b8d13460-8537-4da0-9f4b-ad4d4529df84",
   "metadata": {},
   "outputs": [
    {
     "name": "stdout",
     "output_type": "stream",
     "text": [
      "sets\n"
     ]
    }
   ],
   "source": [
    "print(\"sets\")"
   ]
  },
  {
   "cell_type": "code",
   "execution_count": 13,
   "id": "e5ed5342-6116-4269-b889-e6f595f77e02",
   "metadata": {},
   "outputs": [
    {
     "data": {
      "text/plain": [
       "{'divya', 'keerthi', 'nigama', 'pravalika'}"
      ]
     },
     "execution_count": 13,
     "metadata": {},
     "output_type": "execute_result"
    }
   ],
   "source": [
    "names={\"pravalika\",\"nigama\",\"divya\",\"divya\",\"keerthi\"}\n",
    "names"
   ]
  },
  {
   "cell_type": "code",
   "execution_count": 14,
   "id": "f89aef38-5958-42b1-8d08-0d2286a78d17",
   "metadata": {},
   "outputs": [
    {
     "data": {
      "text/plain": [
       "{False, True, 'keerthi', 'pravalika'}"
      ]
     },
     "execution_count": 14,
     "metadata": {},
     "output_type": "execute_result"
    }
   ],
   "source": [
    "haha={\"pravalika\",\"keerthi\",True,False,0,1}\n",
    "haha"
   ]
  },
  {
   "cell_type": "code",
   "execution_count": 15,
   "id": "249ed47a-49d3-4788-9d4c-5c26b8677a83",
   "metadata": {},
   "outputs": [
    {
     "data": {
      "text/plain": [
       "list"
      ]
     },
     "execution_count": 15,
     "metadata": {},
     "output_type": "execute_result"
    }
   ],
   "source": [
    "list"
   ]
  },
  {
   "cell_type": "code",
   "execution_count": 16,
   "id": "9942e794-5485-4029-bb87-9dadd1c5dc94",
   "metadata": {},
   "outputs": [
    {
     "name": "stdout",
     "output_type": "stream",
     "text": [
      "2\n"
     ]
    }
   ],
   "source": [
    "list=[\"pravalika\",\"nigama\"]\n",
    "print(len(list))"
   ]
  },
  {
   "cell_type": "code",
   "execution_count": 17,
   "id": "055f1ba6-e0a1-43bc-ae11-0a42010de1b9",
   "metadata": {},
   "outputs": [
    {
     "name": "stdout",
     "output_type": "stream",
     "text": [
      "4\n"
     ]
    },
    {
     "data": {
      "text/plain": [
       "{'divya', 'keerthi', 'nigama', 'pravalika'}"
      ]
     },
     "execution_count": 17,
     "metadata": {},
     "output_type": "execute_result"
    }
   ],
   "source": [
    "hehe={\"pravalika\",\"nigama\",\"keerthi\",\"divya\"}\n",
    "print(len(hehe))\n",
    "hehe"
   ]
  },
  {
   "cell_type": "code",
   "execution_count": 18,
   "id": "ada39f82-d1fb-4409-9416-bd697f38883d",
   "metadata": {},
   "outputs": [
    {
     "name": "stdout",
     "output_type": "stream",
     "text": [
      "<class 'set'>\n"
     ]
    }
   ],
   "source": [
    "huhu={\"ptavalika\"}\n",
    "print(type(huhu))"
   ]
  },
  {
   "cell_type": "code",
   "execution_count": 19,
   "id": "94be7b4d-5b4f-4607-ac78-404547049501",
   "metadata": {},
   "outputs": [
    {
     "name": "stdout",
     "output_type": "stream",
     "text": [
      "<class 'list'>\n"
     ]
    }
   ],
   "source": [
    "huhu=[\"pravalika\"]\n",
    "print(type(huhu))"
   ]
  },
  {
   "cell_type": "code",
   "execution_count": 20,
   "id": "45f39b04-b718-4ea5-8a84-16a5df99b12a",
   "metadata": {},
   "outputs": [
    {
     "name": "stdout",
     "output_type": "stream",
     "text": [
      "{'pravalika', 'keerthi', 'nigama'}\n"
     ]
    }
   ],
   "source": [
    "maha=set((\"keerthi\",\"nigama\",\"pravalika\"))\n",
    "print(maha)"
   ]
  },
  {
   "cell_type": "code",
   "execution_count": 21,
   "id": "01e7605a-d632-416c-b9aa-cdfc3893d475",
   "metadata": {},
   "outputs": [
    {
     "name": "stdout",
     "output_type": "stream",
     "text": [
      "divya\n",
      "pravalika\n",
      "keerthi\n",
      "nigama\n"
     ]
    }
   ],
   "source": [
    "prav={\"pravalika\",\"nigama\",\"divya\",\"keerthi\"}\n",
    "for i in prav:\n",
    "    print(i)"
   ]
  },
  {
   "cell_type": "code",
   "execution_count": 22,
   "id": "59ef7119-cfbb-47f6-9c41-d9bf3a27991b",
   "metadata": {},
   "outputs": [
    {
     "name": "stdout",
     "output_type": "stream",
     "text": [
      "True\n"
     ]
    }
   ],
   "source": [
    "print(\"pravalika\" in prav)"
   ]
  },
  {
   "cell_type": "code",
   "execution_count": 23,
   "id": "4aa7f624-b6f7-4984-861a-fb73d6b701db",
   "metadata": {},
   "outputs": [
    {
     "name": "stdout",
     "output_type": "stream",
     "text": [
      "True\n"
     ]
    }
   ],
   "source": [
    "print(\"aadvika\" not in prav)"
   ]
  },
  {
   "cell_type": "code",
   "execution_count": 24,
   "id": "c61a7bb3-3133-4f03-a4d3-6df5e20d8d7a",
   "metadata": {},
   "outputs": [
    {
     "name": "stdout",
     "output_type": "stream",
     "text": [
      "False\n"
     ]
    }
   ],
   "source": [
    "print(\"aadvika\" in prav)"
   ]
  },
  {
   "cell_type": "code",
   "execution_count": 25,
   "id": "e30544a5-3aee-44c0-8c4b-ad009796ddb8",
   "metadata": {},
   "outputs": [
    {
     "data": {
      "text/plain": [
       "{'deepthi', 'divya', 'keerthi', 'nigama', 'pravalika'}"
      ]
     },
     "execution_count": 25,
     "metadata": {},
     "output_type": "execute_result"
    }
   ],
   "source": [
    "pravs={\"keerthi\",\"divya\",\"deepthi\",\"nigama\"}\n",
    "pravs.add(\"pravalika\")\n",
    "pravs"
   ]
  },
  {
   "cell_type": "code",
   "execution_count": 26,
   "id": "8c21f6e1-20d0-41c7-8396-f03bc1a1326c",
   "metadata": {},
   "outputs": [
    {
     "data": {
      "text/plain": [
       "{'aadvika', 'deepthi', 'divya', 'keerthi', 'nigama', 'pravalika'}"
      ]
     },
     "execution_count": 26,
     "metadata": {},
     "output_type": "execute_result"
    }
   ],
   "source": [
    "child={\"aadvika\"}\n",
    "pravs.update(child)\n",
    "pravs               "
   ]
  },
  {
   "cell_type": "code",
   "execution_count": 27,
   "id": "ef97138e-7ae4-4cde-bed0-2dd7ef9e7afa",
   "metadata": {},
   "outputs": [
    {
     "data": {
      "text/plain": [
       "{'aadvika', 'boy/girl', 'deepthi', 'divya', 'keerthi', 'nigama', 'pravalika'}"
      ]
     },
     "execution_count": 27,
     "metadata": {},
     "output_type": "execute_result"
    }
   ],
   "source": [
    "pravs.add(\"boy/girl\")\n",
    "pravs"
   ]
  },
  {
   "cell_type": "code",
   "execution_count": 28,
   "id": "24157731-e75e-4611-a39f-5a67b8e4a2c0",
   "metadata": {},
   "outputs": [
    {
     "data": {
      "text/plain": [
       "{'aadvika', 'deepthi', 'divya', 'keerthi', 'nigama', 'pravalika'}"
      ]
     },
     "execution_count": 28,
     "metadata": {},
     "output_type": "execute_result"
    }
   ],
   "source": [
    "pravs.remove(\"boy/girl\")\n",
    "pravs"
   ]
  },
  {
   "cell_type": "code",
   "execution_count": 29,
   "id": "32a42196-f6bc-46fc-9232-8ece0ce482d2",
   "metadata": {},
   "outputs": [
    {
     "data": {
      "text/plain": [
       "{'aadvika', 'deepthi', 'divya', 'keerthi', 'nigama'}"
      ]
     },
     "execution_count": 29,
     "metadata": {},
     "output_type": "execute_result"
    }
   ],
   "source": [
    "pravs.discard(\"pravalika\")\n",
    "pravs"
   ]
  },
  {
   "cell_type": "code",
   "execution_count": 30,
   "id": "d6dceec8-96bb-4c8f-a4ab-a55019878593",
   "metadata": {},
   "outputs": [
    {
     "data": {
      "text/plain": [
       "{'nigama'}"
      ]
     },
     "execution_count": 30,
     "metadata": {},
     "output_type": "execute_result"
    }
   ],
   "source": [
    "pravs={\"pravalika\",\"nigama\"}\n",
    "pravs.pop()\n",
    "pravs\n",
    "\n"
   ]
  },
  {
   "cell_type": "code",
   "execution_count": 31,
   "id": "90aaa8b5-7942-465f-95db-6df25cd63909",
   "metadata": {},
   "outputs": [
    {
     "name": "stdout",
     "output_type": "stream",
     "text": [
      "False\n"
     ]
    }
   ],
   "source": [
    "haha={\"prav\",\"chinnu\",\"niggu\",\"keer\",\"haha\",\"hehe\"}\n",
    "hehe={\"haha\",\"hehe\"}\n",
    "x=haha.isdisjoint(hehe)\n",
    "print(x)\n"
   ]
  },
  {
   "cell_type": "code",
   "execution_count": 32,
   "id": "47497de3-ac19-4e4f-9dd8-a0fbda076a2d",
   "metadata": {},
   "outputs": [
    {
     "name": "stdout",
     "output_type": "stream",
     "text": [
      "<class 'set'>\n"
     ]
    }
   ],
   "source": [
    "print(type(haha))"
   ]
  },
  {
   "cell_type": "code",
   "execution_count": 33,
   "id": "c3370b17-ab30-4e9a-992b-47551d62e29b",
   "metadata": {},
   "outputs": [
    {
     "name": "stdout",
     "output_type": "stream",
     "text": [
      "True\n"
     ]
    }
   ],
   "source": [
    "x=haha.issuperset(hehe)\n",
    "print(x)"
   ]
  },
  {
   "cell_type": "code",
   "execution_count": 34,
   "id": "26a21b3c-df8e-420c-a3bc-fcce53a50a86",
   "metadata": {},
   "outputs": [
    {
     "data": {
      "text/plain": [
       "{'ha', 'he', 'jaa', 'kaa'}"
      ]
     },
     "execution_count": 34,
     "metadata": {},
     "output_type": "execute_result"
    }
   ],
   "source": [
    "ha={\"ha\",\"he\"}\n",
    "he={\"jaa\",\"kaa\"}\n",
    "x=ha.union(he)\n",
    "x"
   ]
  },
  {
   "cell_type": "code",
   "execution_count": 35,
   "id": "2930b255-6db5-4876-aeab-ea5a7e04022b",
   "metadata": {},
   "outputs": [
    {
     "data": {
      "text/plain": [
       "False"
      ]
     },
     "execution_count": 35,
     "metadata": {},
     "output_type": "execute_result"
    }
   ],
   "source": [
    "pa={\"ga\",\"fa\",\"ha\"}\n",
    "va={\"ga\",\"fa\"}\n",
    "x=pa.issubset(va)\n",
    "x\n"
   ]
  },
  {
   "cell_type": "code",
   "execution_count": 36,
   "id": "ad4cdc03-c799-4722-a422-b67666f80eff",
   "metadata": {},
   "outputs": [
    {
     "name": "stdout",
     "output_type": "stream",
     "text": [
      "None\n"
     ]
    }
   ],
   "source": [
    "a={\"ha\",\"he\",\"hu\",\"hi\"}\n",
    "b={\"ga\",\"ge\",\"hu\",\"hi\"}\n",
    "x=b.difference_update(a)\n",
    "print(x)\n"
   ]
  },
  {
   "cell_type": "code",
   "execution_count": 37,
   "id": "0513b37b-797a-453f-b4c5-c2802c7b6f5f",
   "metadata": {},
   "outputs": [
    {
     "name": "stdout",
     "output_type": "stream",
     "text": [
      "{'apple': 10, 'banana': 34, 'mango': 65}\n"
     ]
    }
   ],
   "source": [
    "prav={\"apple\":10,\n",
    "      \"banana\":34,\n",
    "      \"mango\":65}\n",
    "print(prav)"
   ]
  },
  {
   "cell_type": "code",
   "execution_count": 38,
   "id": "75ee4edc-f94c-428f-839b-bf9d32b521f9",
   "metadata": {},
   "outputs": [
    {
     "name": "stdout",
     "output_type": "stream",
     "text": [
      "34\n"
     ]
    }
   ],
   "source": [
    "print(prav[\"banana\"])"
   ]
  },
  {
   "cell_type": "code",
   "execution_count": 39,
   "id": "e7ef1de7-1201-4ec8-acf7-8814860a2d16",
   "metadata": {},
   "outputs": [
    {
     "name": "stdout",
     "output_type": "stream",
     "text": [
      "10\n"
     ]
    }
   ],
   "source": [
    "print(prav[\"apple\"])"
   ]
  },
  {
   "cell_type": "code",
   "execution_count": 40,
   "id": "862c5d0c-3817-45a0-972e-69bda0b2085c",
   "metadata": {},
   "outputs": [
    {
     "name": "stdout",
     "output_type": "stream",
     "text": [
      "{'j', 'g', 'h', 'c', 'a', 'b'}\n"
     ]
    }
   ],
   "source": [
    "ha={\"a\",\"b\",\"c\"}\n",
    "he={\"h\",\"g\",\"j\"}\n",
    "ha.update(he)\n",
    "print(ha)\n"
   ]
  },
  {
   "cell_type": "code",
   "execution_count": 41,
   "id": "ad0dc0b7-1c91-4c19-8f6c-08512191e6e4",
   "metadata": {},
   "outputs": [
    {
     "name": "stdout",
     "output_type": "stream",
     "text": [
      "6\n"
     ]
    }
   ],
   "source": [
    "print(len(ha))"
   ]
  },
  {
   "cell_type": "code",
   "execution_count": 42,
   "id": "1d8d0307-bf59-4176-997d-43a3554eea9d",
   "metadata": {},
   "outputs": [
    {
     "data": {
      "text/plain": [
       "{'haha': 23, 'hehe': True, 'colours': ['red', 'pink', 'yellow']}"
      ]
     },
     "execution_count": 42,
     "metadata": {},
     "output_type": "execute_result"
    }
   ],
   "source": [
    "haha={\"haha\":\"hehe\",\"haha\":23,\"hehe\":True,\"colours\":[\"red\",\"pink\",\"yellow\"]}\n",
    "haha"
   ]
  },
  {
   "cell_type": "code",
   "execution_count": 43,
   "id": "7f215fce-0b34-42b2-88f7-6d9129875332",
   "metadata": {},
   "outputs": [
    {
     "data": {
      "text/plain": [
       "{'name': 'pravalika', 'age': 22, 'country': 'india'}"
      ]
     },
     "execution_count": 43,
     "metadata": {},
     "output_type": "execute_result"
    }
   ],
   "source": [
    "prav=dict(name=\"pravalika\",age=22,country=\"india\")\n",
    "prav"
   ]
  },
  {
   "cell_type": "code",
   "execution_count": 44,
   "id": "f64ea8a9-ad06-48ad-aa3c-2c0318379650",
   "metadata": {},
   "outputs": [
    {
     "name": "stdout",
     "output_type": "stream",
     "text": [
      "dict_items([('pra', 'pra'), ('va', 'va'), ('li', 'li'), ('ka', 'ka')])\n"
     ]
    }
   ],
   "source": [
    "prv={\"pra\":\"pra\",\"va\":\"va\",\"li\":\"li\",\"ka\":\"ka\"}\n",
    "x=prv.items()\n",
    "print(x)"
   ]
  },
  {
   "cell_type": "code",
   "execution_count": 45,
   "id": "155d5f57-5f32-4bbb-8204-21257c240b70",
   "metadata": {},
   "outputs": [
    {
     "data": {
      "text/plain": [
       "'pra'"
      ]
     },
     "execution_count": 45,
     "metadata": {},
     "output_type": "execute_result"
    }
   ],
   "source": [
    "x=prv.get(\"pra\")\n",
    "x"
   ]
  },
  {
   "cell_type": "code",
   "execution_count": 46,
   "id": "499299ac-3879-4e0f-8dc0-bba97fcafe40",
   "metadata": {},
   "outputs": [
    {
     "name": "stdout",
     "output_type": "stream",
     "text": [
      "data stuctures\n"
     ]
    }
   ],
   "source": [
    "print(\"data stuctures\")"
   ]
  },
  {
   "cell_type": "code",
   "execution_count": 53,
   "id": "f4141258-0622-48de-8068-7f1b0faba73a",
   "metadata": {},
   "outputs": [
    {
     "name": "stdout",
     "output_type": "stream",
     "text": [
      "5\n",
      "7\n",
      "12\n",
      "19\n",
      "31\n",
      "50\n",
      "81\n",
      "131\n",
      "212\n",
      "343\n"
     ]
    }
   ],
   "source": [
    "prav=2\n",
    "pravs=3\n",
    "for fibo in range(10):\n",
    "    newfibo=prav+pravs\n",
    "    print(newfibo)\n",
    "    pravs=prav\n",
    "    prav=newfibo\n"
   ]
  },
  {
   "cell_type": "code",
   "execution_count": null,
   "id": "02fcdee8-884a-4701-b192-f2d643d0f60f",
   "metadata": {},
   "outputs": [],
   "source": []
  },
  {
   "cell_type": "code",
   "execution_count": null,
   "id": "9c3c6079-1ffc-4980-801e-1db8a46b5188",
   "metadata": {},
   "outputs": [],
   "source": []
  },
  {
   "cell_type": "code",
   "execution_count": null,
   "id": "0c1a678e-c9c7-42fd-b843-b1218c5f1a4c",
   "metadata": {},
   "outputs": [],
   "source": []
  },
  {
   "cell_type": "code",
   "execution_count": null,
   "id": "18c5f7f4-15b3-48d7-b5f2-4091fdfdd015",
   "metadata": {},
   "outputs": [],
   "source": []
  },
  {
   "cell_type": "code",
   "execution_count": null,
   "id": "7cfd07de-14cb-42ad-94f2-2ff8041cc34b",
   "metadata": {},
   "outputs": [],
   "source": []
  },
  {
   "cell_type": "code",
   "execution_count": null,
   "id": "ebdc8ea9-118d-4a82-bbad-4be7483bfc46",
   "metadata": {},
   "outputs": [],
   "source": []
  },
  {
   "cell_type": "code",
   "execution_count": null,
   "id": "e6621cd6-ae24-4f92-aa4a-fcf4e145bfe2",
   "metadata": {},
   "outputs": [],
   "source": []
  },
  {
   "cell_type": "code",
   "execution_count": null,
   "id": "2ad61dbb-c82d-4ecf-916c-2b6e79d95fb1",
   "metadata": {},
   "outputs": [],
   "source": []
  }
 ],
 "metadata": {
  "kernelspec": {
   "display_name": "Python 3 (ipykernel)",
   "language": "python",
   "name": "python3"
  },
  "language_info": {
   "codemirror_mode": {
    "name": "ipython",
    "version": 3
   },
   "file_extension": ".py",
   "mimetype": "text/x-python",
   "name": "python",
   "nbconvert_exporter": "python",
   "pygments_lexer": "ipython3",
   "version": "3.11.7"
  }
 },
 "nbformat": 4,
 "nbformat_minor": 5
}
